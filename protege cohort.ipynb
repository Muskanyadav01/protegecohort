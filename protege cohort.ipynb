{
 "cells": [
  {
   "cell_type": "markdown",
   "metadata": {},
   "source": [
    "# QUES1:Write a program to print the following number pattern using a loop.\n",
    "1\n",
    "12\n",
    "123\n",
    "1234\n",
    "12345"
   ]
  },
  {
   "cell_type": "code",
   "execution_count": 6,
   "metadata": {},
   "outputs": [
    {
     "name": "stdout",
     "output_type": "stream",
     "text": [
      "\n",
      "1\n",
      "12\n",
      "123\n",
      "1234\n",
      "12345\n"
     ]
    }
   ],
   "source": [
    "for row in range(1,7):\n",
    "    for col in range(1,row):\n",
    "        print(col,end=\"\")\n",
    "    print()    "
   ]
  },
  {
   "cell_type": "markdown",
   "metadata": {},
   "source": [
    "# Ques2: Write a program to print multiplication table of a given number"
   ]
  },
  {
   "cell_type": "code",
   "execution_count": 7,
   "metadata": {},
   "outputs": [
    {
     "name": "stdout",
     "output_type": "stream",
     "text": [
      "enter the number.5\n",
      "5 * 1 = 5\n",
      "5 * 2 = 10\n",
      "5 * 3 = 15\n",
      "5 * 4 = 20\n",
      "5 * 5 = 25\n",
      "5 * 6 = 30\n",
      "5 * 7 = 35\n",
      "5 * 8 = 40\n",
      "5 * 9 = 45\n",
      "5 * 10 = 50\n"
     ]
    }
   ],
   "source": [
    "num=int(input(\"enter the number.\"))\n",
    "for i in range(1,11):\n",
    "    print(num,\"*\",i,\"=\", i*num  )"
   ]
  },
  {
   "cell_type": "markdown",
   "metadata": {},
   "source": [
    "# Ques 3:Find the factorial of a given number"
   ]
  },
  {
   "cell_type": "code",
   "execution_count": 1,
   "metadata": {},
   "outputs": [
    {
     "name": "stdout",
     "output_type": "stream",
     "text": [
      "enter the number.5\n",
      "factorial of 5 = 120\n"
     ]
    }
   ],
   "source": [
    "num= int(input(\"enter the number.\"))\n",
    "fact=1\n",
    "if num==0:\n",
    "    print(\"the number entered is zero, and it's factorial = 1\")\n",
    "elif num==1:\n",
    "    print(\"the number entered is one, and it's factorial = 1\")\n",
    "elif num<0:\n",
    "    print(\"it's negative number it's factorial doesn't exist.\")\n",
    "else:\n",
    "    for i in range(1, num+1):\n",
    "        fact= fact*i\n",
    "    \n",
    "print(\"factorial of\", num, \"=\", fact)   "
   ]
  },
  {
   "cell_type": "markdown",
   "metadata": {},
   "source": [
    "# Ques4:Write sum of given natural numbers\n"
   ]
  },
  {
   "cell_type": "code",
   "execution_count": 1,
   "metadata": {},
   "outputs": [
    {
     "name": "stdout",
     "output_type": "stream",
     "text": [
      "enter your number.5\n",
      "sum of 5 natural numbers = 15\n"
     ]
    }
   ],
   "source": [
    "num=int(input(\"enter your number.\"))\n",
    "sum1=0\n",
    "num1=num\n",
    "while num1>=1:\n",
    "    sum1=sum1+num1\n",
    "    num1=num1-1\n",
    "print(\"sum of\",num,\"natural numbers =\", sum1) "
   ]
  },
  {
   "cell_type": "markdown",
   "metadata": {},
   "source": [
    "# Ques5: Write a program to print fibonacci series till n terms using loops"
   ]
  },
  {
   "cell_type": "code",
   "execution_count": 11,
   "metadata": {},
   "outputs": [
    {
     "name": "stdout",
     "output_type": "stream",
     "text": [
      "how many terms you want in fibonacci series.7\n",
      "0 1 1 2 3 5 8 13 "
     ]
    }
   ],
   "source": [
    "num=int(input(\"how many terms you want in fibonacci series.\")) \n",
    "if num==1:\n",
    "    print(\"1\")\n",
    "elif num==2:\n",
    "    print('1')\n",
    "elif num==0:\n",
    "    print(\"0\")\n",
    "elif num<=0:\n",
    "    print(\"no fibonacci series for negative numbers.\")\n",
    "elif num>=0:    \n",
    "    i=2\n",
    "    first=1\n",
    "    sec=1\n",
    "    print(\"0\",first,end=\" \")\n",
    "    print(sec,end=' ')\n",
    "    while(i<num):\n",
    "            fibo= first+sec\n",
    "            print(fibo,end=\" \")\n",
    "            first=sec\n",
    "            sec=fibo\n",
    "            i=i+1     "
   ]
  },
  {
   "cell_type": "code",
   "execution_count": null,
   "metadata": {},
   "outputs": [],
   "source": []
  },
  {
   "cell_type": "code",
   "execution_count": null,
   "metadata": {},
   "outputs": [],
   "source": []
  }
 ],
 "metadata": {
  "kernelspec": {
   "display_name": "Python 3",
   "language": "python",
   "name": "python3"
  },
  "language_info": {
   "codemirror_mode": {
    "name": "ipython",
    "version": 3
   },
   "file_extension": ".py",
   "mimetype": "text/x-python",
   "name": "python",
   "nbconvert_exporter": "python",
   "pygments_lexer": "ipython3",
   "version": "3.7.6"
  }
 },
 "nbformat": 4,
 "nbformat_minor": 4
}
