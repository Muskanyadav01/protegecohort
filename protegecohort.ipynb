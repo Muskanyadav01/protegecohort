{
 "cells": [
  {
   "cell_type": "markdown",
   "metadata": {},
   "source": [
    "# QUES1: Write a program to check if the given number is Armstrong or not\n"
   ]
  },
  {
   "cell_type": "code",
   "execution_count": 5,
   "metadata": {},
   "outputs": [
    {
     "name": "stdout",
     "output_type": "stream",
     "text": [
      "enter your number371\n",
      "it is an armstrong number.\n"
     ]
    }
   ],
   "source": [
    "# Write a program to check if the given number is Armstrong or not\n",
    "num=int(input(\"enter your number\"))\n",
    "num1=num//100\n",
    "num2=num//10\n",
    "num4=num2%10\n",
    "num3=num%10\n",
    "if (num1**3+num4**3+num3**3)==num:\n",
    "    print(\"it is an armstrong number.\")\n",
    "else:\n",
    "    print(\"it is not an armstrong number.\")    "
   ]
  },
  {
   "cell_type": "markdown",
   "metadata": {},
   "source": [
    "# Write a program to check if the given number is palindrome or not.\n"
   ]
  },
  {
   "cell_type": "code",
   "execution_count": 8,
   "metadata": {},
   "outputs": [
    {
     "name": "stdout",
     "output_type": "stream",
     "text": [
      "enter your inputnitin\n",
      "it is a palindrome\n"
     ]
    }
   ],
   "source": [
    "word=input(\"enter your input. \")\n",
    "check=word[::-1]\n",
    "if word==check:\n",
    "    print(\"it is a palindrome\")\n",
    "else:\n",
    "    print(\"it is not a palindrome\")"
   ]
  },
  {
   "cell_type": "code",
   "execution_count": 14,
   "metadata": {},
   "outputs": [
    {
     "name": "stdout",
     "output_type": "stream",
     "text": [
      "enter your input.nitin\n",
      "it is a palindrome.\n"
     ]
    }
   ],
   "source": [
    "#second method\n",
    "word=input(\"enter your input.\")\n",
    "copy=''\n",
    "for i in range(len(word)-1,-1,-1):\n",
    "    copy=copy+word[i]\n",
    "if word==copy:\n",
    "    print(\"it is a palindrome.\")\n",
    "else:\n",
    "    print(\"it is not a palindrome.\")\n"
   ]
  },
  {
   "cell_type": "markdown",
   "metadata": {},
   "source": [
    "# Write a program to check if the given strings are anagram or not.\n"
   ]
  },
  {
   "cell_type": "code",
   "execution_count": 17,
   "metadata": {},
   "outputs": [
    {
     "name": "stdout",
     "output_type": "stream",
     "text": [
      "enter your input.devil\n",
      "enter your input.lived\n",
      "words are anagram.\n"
     ]
    }
   ],
   "source": [
    "def anagram(word1,word2):\n",
    "     if sorted(word1)==sorted(word2):\n",
    "        print(\"words are anagram.\")\n",
    "     else:\n",
    "        print(\"words are not anagram.\")\n",
    "\n",
    "         \n",
    "        \n",
    "word1=input(\"enter your input.\")\n",
    "word2=input(\"enter your input.\")\n",
    "anagram(word1,word2)"
   ]
  },
  {
   "cell_type": "markdown",
   "metadata": {},
   "source": [
    "# Write a program to find a factorial of a number.\n"
   ]
  },
  {
   "cell_type": "code",
   "execution_count": 19,
   "metadata": {},
   "outputs": [
    {
     "name": "stdout",
     "output_type": "stream",
     "text": [
      "enter your number.5\n",
      "factorial of 5 is 120.\n"
     ]
    }
   ],
   "source": [
    "num=int(input('enter your number.'))\n",
    "num1=1\n",
    "for i in range(num,1,-1):\n",
    "    num1=num1*i\n",
    "print(f\"factorial of {num} is {num1}.\")    \n",
    "               "
   ]
  },
  {
   "cell_type": "markdown",
   "metadata": {},
   "source": [
    "# Write a program to find a fibonacci of a number.\n"
   ]
  },
  {
   "cell_type": "code",
   "execution_count": 23,
   "metadata": {},
   "outputs": [
    {
     "name": "stdout",
     "output_type": "stream",
     "text": [
      "enter your number till you want to print fibonacci series.5\n",
      "fibonacci sequence:\n",
      "0\n",
      "1\n",
      "1\n",
      "2\n",
      "3\n"
     ]
    }
   ],
   "source": [
    "num=int(input(\"enter your number till you want to print fibonacci series.\"))\n",
    "num1=0\n",
    "num2=1\n",
    "check=0\n",
    "print(\"fibonacci sequence:\")\n",
    "print(num1)\n",
    "print(num2)\n",
    "if num<=0:\n",
    "    print(\"kindly enter positive number of terms.\")\n",
    "elif num==1:\n",
    "    print(\"fibonacci series upto\", num, \"terms is:\")\n",
    "    print(num1)\n",
    "else: \n",
    "    while check<=(num-3): #two terms have already been printed\n",
    "        num3=num1+num2\n",
    "        print(num3)\n",
    "        num1=num2\n",
    "        num2=num3\n",
    "        check=check+1    "
   ]
  },
  {
   "cell_type": "code",
   "execution_count": 25,
   "metadata": {
    "scrolled": true
   },
   "outputs": [
    {
     "name": "stdout",
     "output_type": "stream",
     "text": [
      "enter your number till you want to print fibonacci series.5\n",
      "fibonacci sequence:\n",
      "[0, 1, 1, 2, 3]\n"
     ]
    }
   ],
   "source": [
    "#series using list\n",
    "num=int(input(\"enter your number till you want to print fibonacci series.\"))\n",
    "num1=0\n",
    "num2=1\n",
    "check=0\n",
    "series=[]\n",
    "print(\"fibonacci sequence:\")\n",
    "series.append(num1)\n",
    "series.append(num2)\n",
    "while check<=(num-3): #two terms have already been printed\n",
    "    num3=num1+num2\n",
    "    series.append(num3)\n",
    "    num1=num2\n",
    "    num2=num3\n",
    "    check=check+1  \n",
    "print(series)    "
   ]
  },
  {
   "cell_type": "markdown",
   "metadata": {},
   "source": [
    "# Write a code to print the following pattern."
   ]
  },
  {
   "cell_type": "code",
   "execution_count": 29,
   "metadata": {},
   "outputs": [
    {
     "name": "stdout",
     "output_type": "stream",
     "text": [
      "enter your number.5\n",
      "\n",
      "* \n",
      "* * \n",
      "* * * \n",
      "* * * * \n"
     ]
    }
   ],
   "source": [
    "def pattern(num):\n",
    "    for i in range(num):\n",
    "        for j in range(1,i+1):\n",
    "             print(\"*\",end=\" \" )\n",
    "        print()    \n",
    "num=int(input(\"enter your number.\"))\n",
    "pattern(num)    "
   ]
  },
  {
   "cell_type": "markdown",
   "metadata": {},
   "source": [
    "# Write a program to print the triangular pattern."
   ]
  },
  {
   "cell_type": "code",
   "execution_count": 54,
   "metadata": {},
   "outputs": [
    {
     "name": "stdout",
     "output_type": "stream",
     "text": [
      "enter the number of rows you want to be printed.5\n",
      "    * \n",
      "   * * \n",
      "  * * * \n",
      " * * * * \n",
      "* * * * * \n"
     ]
    }
   ],
   "source": [
    "def tripat(num):\n",
    "    for i in range(num):\n",
    "        for j in range(num-i-1):\n",
    "            print(\" \",end=\"\")\n",
    "        for j in range(i+1):\n",
    "            print(\"*\",end=\" \")\n",
    "        print()    \n",
    "    \n",
    "num= int(input(\"enter the number of rows you want to be printed.\"))\n",
    "tripat(num)"
   ]
  },
  {
   "cell_type": "markdown",
   "metadata": {},
   "source": [
    "# Write a program to print the row number in pattern form.\n"
   ]
  },
  {
   "cell_type": "code",
   "execution_count": 31,
   "metadata": {},
   "outputs": [
    {
     "name": "stdout",
     "output_type": "stream",
     "text": [
      "enter the number of rows you want to be printed.5\n",
      "\n",
      "1 \n",
      "1 2 \n",
      "1 2 3 \n",
      "1 2 3 4 \n"
     ]
    }
   ],
   "source": [
    "def rowpat(num):\n",
    "    for i in range(num):\n",
    "        for j in range(1,i+1):\n",
    "            print(j,end=\" \")\n",
    "        print()    \n",
    "num= int(input(\"enter the number of rows you want to be printed.\")) \n",
    "rowpat(num)"
   ]
  },
  {
   "cell_type": "markdown",
   "metadata": {},
   "source": [
    "# Write a program to print the number triangle pattern.\n"
   ]
  },
  {
   "cell_type": "code",
   "execution_count": 37,
   "metadata": {},
   "outputs": [
    {
     "name": "stdout",
     "output_type": "stream",
     "text": [
      "enter your number till which you want to print the triangle.5\n",
      "1 \n",
      "2 3 \n",
      "4 5 6 \n",
      "7 8 9 10 \n",
      "11 12 13 14 15 \n"
     ]
    }
   ],
   "source": [
    "def numpat(num):\n",
    "    k=1\n",
    "    for i in range(1,num+1):\n",
    "        for j in range(1,i+1):\n",
    "            print(k,end=\" \")\n",
    "            k+=1\n",
    "        print()    \n",
    "                \n",
    "num=int(input(\"enter your number till which you want to print the triangle.\"))   \n",
    "numpat(num)"
   ]
  },
  {
   "cell_type": "markdown",
   "metadata": {},
   "source": [
    "# Write a program to print the column in alphabetical pattern.\n"
   ]
  },
  {
   "cell_type": "code",
   "execution_count": 48,
   "metadata": {},
   "outputs": [
    {
     "name": "stdout",
     "output_type": "stream",
     "text": [
      "enter the number of alphabet till which you wanna print the code.5\n",
      "A \n",
      "B B \n",
      "C C C \n",
      "D D D D \n",
      "E E E E E \n"
     ]
    }
   ],
   "source": [
    "def alpat(num):\n",
    "    ch=65\n",
    "    for i in range(num):\n",
    "        for j in range(0,i+1):\n",
    "            char=chr(ch)\n",
    "            print(char,end=\" \")\n",
    "        ch=ch+1    \n",
    "        print()    \n",
    "    \n",
    "num=int(input(\"enter the number of alphabet till which you wanna print the code.\"))\n",
    "alpat(num)"
   ]
  },
  {
   "cell_type": "markdown",
   "metadata": {},
   "source": [
    "# Write a program to print the alpabets in triangular pattern.\n"
   ]
  },
  {
   "cell_type": "code",
   "execution_count": 49,
   "metadata": {},
   "outputs": [
    {
     "name": "stdout",
     "output_type": "stream",
     "text": [
      "enter the number of alphabet till which you wanna print the code.6\n",
      "A \n",
      "B C \n",
      "D E F \n",
      "G H I J \n",
      "K L M N O \n",
      "P Q R S T U \n"
     ]
    }
   ],
   "source": [
    "def alpat(num):\n",
    "    ch=65\n",
    "    for i in range(num):\n",
    "        for j in range(0,i+1):\n",
    "            char=chr(ch)\n",
    "            print(char,end=\" \")\n",
    "            ch=ch+1    \n",
    "        print()    \n",
    "    \n",
    "num=int(input(\"enter the number of alphabet till which you wanna print the code.\"))\n",
    "alpat(num)"
   ]
  },
  {
   "cell_type": "code",
   "execution_count": null,
   "metadata": {},
   "outputs": [],
   "source": []
  }
 ],
 "metadata": {
  "kernelspec": {
   "display_name": "Python 3",
   "language": "python",
   "name": "python3"
  },
  "language_info": {
   "codemirror_mode": {
    "name": "ipython",
    "version": 3
   },
   "file_extension": ".py",
   "mimetype": "text/x-python",
   "name": "python",
   "nbconvert_exporter": "python",
   "pygments_lexer": "ipython3",
   "version": "3.7.6"
  }
 },
 "nbformat": 4,
 "nbformat_minor": 4
}
